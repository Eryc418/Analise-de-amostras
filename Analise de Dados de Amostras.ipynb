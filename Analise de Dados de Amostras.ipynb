{
  "nbformat": 4,
  "nbformat_minor": 0,
  "metadata": {
    "colab": {
      "provenance": [],
      "authorship_tag": "ABX9TyMvAhf3vb5S18UBHv14tc5L",
      "include_colab_link": true
    },
    "kernelspec": {
      "name": "python3",
      "display_name": "Python 3"
    },
    "language_info": {
      "name": "python"
    }
  },
  "cells": [
    {
      "cell_type": "markdown",
      "metadata": {
        "id": "view-in-github",
        "colab_type": "text"
      },
      "source": [
        "<a href=\"https://colab.research.google.com/github/Eryc418/Eryc418/blob/main/Analise%20de%20Dados%20de%20Amostras.ipynb\" target=\"_parent\"><img src=\"https://colab.research.google.com/assets/colab-badge.svg\" alt=\"Open In Colab\"/></a>"
      ]
    },
    {
      "cell_type": "code",
      "execution_count": 8,
      "metadata": {
        "id": "0XhP4v7Cez5I"
      },
      "outputs": [],
      "source": [
        "import pandas as pd\n",
        "\n",
        "import numpy as np\n",
        "\n",
        "import matplotlib.pyplot as plt\n",
        "import seaborn as sns\n",
        "import random"
      ]
    },
    {
      "cell_type": "code",
      "source": [
        "dados = pd.read_csv('/content/sample_data/esus-vepi.LeitoOcupacao_2022 (1).csv')"
      ],
      "metadata": {
        "id": "bKo7Qg1snxKt"
      },
      "execution_count": 9,
      "outputs": []
    },
    {
      "cell_type": "code",
      "source": [
        "valor = len(dados.sample(random.randint(50, 100)))"
      ],
      "metadata": {
        "id": "rrAvVR7Zpiyi"
      },
      "execution_count": 12,
      "outputs": []
    },
    {
      "cell_type": "code",
      "source": [
        "amostra_sistematica = dados.iloc[::1500]\n",
        "valor = len(amostra_sistematica)"
      ],
      "metadata": {
        "id": "48S8AAg7pxcF"
      },
      "execution_count": 13,
      "outputs": []
    },
    {
      "cell_type": "code",
      "source": [
        "valor"
      ],
      "metadata": {
        "colab": {
          "base_uri": "https://localhost:8080/"
        },
        "id": "9Yo8N_27qJZt",
        "outputId": "1e456dc1-0e05-4c96-eed2-3e0f95aae048"
      },
      "execution_count": 14,
      "outputs": [
        {
          "output_type": "execute_result",
          "data": {
            "text/plain": [
              "163"
            ]
          },
          "metadata": {},
          "execution_count": 14
        }
      ]
    },
    {
      "cell_type": "code",
      "source": [
        "amostra_estratificada = dados.groupby('municipio', group_keys=False).apply(lambda x: x.sample(frac=0.6))\n",
        "valor = len(amostra_estratificada)"
      ],
      "metadata": {
        "id": "iDYXDBy5qXiM"
      },
      "execution_count": 16,
      "outputs": []
    },
    {
      "cell_type": "code",
      "source": [
        "valor"
      ],
      "metadata": {
        "colab": {
          "base_uri": "https://localhost:8080/"
        },
        "id": "kdtpgFRFqxZj",
        "outputId": "2e05c9ee-dd6b-42d6-c371-238ab523e6a3"
      },
      "execution_count": 17,
      "outputs": [
        {
          "output_type": "execute_result",
          "data": {
            "text/plain": [
              "146064"
            ]
          },
          "metadata": {},
          "execution_count": 17
        }
      ]
    },
    {
      "cell_type": "code",
      "source": [
        "amostra_conglomerada = dados.sample(200).sort_values(by='municipio')\n",
        "valor = len(amostra_conglomerada)"
      ],
      "metadata": {
        "id": "ccaaekJ_qzXA"
      },
      "execution_count": 18,
      "outputs": []
    },
    {
      "cell_type": "code",
      "source": [
        "valor"
      ],
      "metadata": {
        "colab": {
          "base_uri": "https://localhost:8080/"
        },
        "id": "BPPsScZ-rF8w",
        "outputId": "0c619332-1cba-4f5c-e937-d3b90c95caeb"
      },
      "execution_count": 19,
      "outputs": [
        {
          "output_type": "execute_result",
          "data": {
            "text/plain": [
              "200"
            ]
          },
          "metadata": {},
          "execution_count": 19
        }
      ]
    },
    {
      "cell_type": "code",
      "source": [
        "Z = 2.58 # Escore Z\n",
        "e = 0.05 # margem de erro\n",
        "P = 0.5 # desvio padrão"
      ],
      "metadata": {
        "id": "VLNyZ8mErIyj"
      },
      "execution_count": 20,
      "outputs": []
    },
    {
      "cell_type": "code",
      "source": [
        "calc_1 = ((Z ** 2) * (P * (1 - P)) / (e ** 2))\n",
        "calc_2 = 1 + (((Z ** 2) * (P * (1 - P))) / ((e ** 2) * valor))\n",
        "tamanho_amostra_simples = calc_1 / calc_2"
      ],
      "metadata": {
        "id": "RhG7fou-roou"
      },
      "execution_count": 21,
      "outputs": []
    },
    {
      "cell_type": "code",
      "source": [
        "print(round(tamanho_amostra_simples))"
      ],
      "metadata": {
        "colab": {
          "base_uri": "https://localhost:8080/"
        },
        "id": "z9vjPextr3o4",
        "outputId": "3bc7d17e-9f95-4610-acfc-42a3420c3419"
      },
      "execution_count": 22,
      "outputs": [
        {
          "output_type": "stream",
          "name": "stdout",
          "text": [
            "154\n"
          ]
        }
      ]
    }
  ]
}